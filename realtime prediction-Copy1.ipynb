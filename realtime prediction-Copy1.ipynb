{
 "cells": [
  {
   "cell_type": "code",
   "execution_count": 1,
   "id": "ecc64606",
   "metadata": {},
   "outputs": [],
   "source": [
    "import numpy as np\n",
    "import pickle\n",
    "import cv2\n",
    "from os import listdir\n",
    "from sklearn.preprocessing import LabelBinarizer\n",
    "from keras.models import Sequential\n",
    "from tensorflow.keras.layers import BatchNormalization\n",
    "from tensorflow.keras.layers import Conv2D\n",
    "from keras.layers.convolutional import MaxPooling2D\n",
    "from keras.layers.core import Activation, Flatten, Dropout, Dense\n",
    "from keras import backend as K\n",
    "from keras.preprocessing.image import ImageDataGenerator\n",
    "from keras.optimizers import Adam\n",
    "from keras.preprocessing import image\n",
    "from tensorflow.keras.preprocessing.image import img_to_array\n",
    "from sklearn.preprocessing import MultiLabelBinarizer\n",
    "from sklearn.model_selection import train_test_split\n",
    "import matplotlib.pyplot as plt"
   ]
  },
  {
   "cell_type": "code",
   "execution_count": 2,
   "id": "ef500601",
   "metadata": {},
   "outputs": [],
   "source": [
    "def convert_image_to_array(image_dir):\n",
    "    try:\n",
    "        image = cv2.imread(image_dir)\n",
    "        if image is not None :\n",
    "            image = cv2.resize(image, default_image_size)   \n",
    "            return img_to_array(image)\n",
    "        else :\n",
    "            return np.array([])\n",
    "    except Exception as e:\n",
    "        print(f\"Error : {e}\")\n",
    "        return None"
   ]
  },
  {
   "cell_type": "code",
   "execution_count": 3,
   "id": "80cd9da5",
   "metadata": {},
   "outputs": [],
   "source": [
    "from pathlib import Path"
   ]
  },
  {
   "cell_type": "code",
   "execution_count": 4,
   "id": "67e80df5",
   "metadata": {},
   "outputs": [],
   "source": [
    "import tensorflow as tf\n",
    "from tensorflow import keras"
   ]
  },
  {
   "cell_type": "code",
   "execution_count": 5,
   "id": "0c402a88",
   "metadata": {},
   "outputs": [],
   "source": [
    "default_image_size = tuple((256, 256))"
   ]
  },
  {
   "cell_type": "code",
   "execution_count": 6,
   "id": "e2f89cd5",
   "metadata": {},
   "outputs": [
    {
     "name": "stdout",
     "output_type": "stream",
     "text": [
      "[INFO] Loading images ...\n",
      "[INFO] Processing Bacterial_spot ...\n",
      "[INFO] Processing diseased ...\n",
      "[INFO] Processing Early_blight ...\n",
      "[INFO] Processing healthy ...\n",
      "[INFO] Processing Spider_mites_Two_spotted_spider_mite ...\n",
      "[INFO] Processing _Bacterial_spot ...\n",
      "[INFO] Processing _Early_blight ...\n",
      "[INFO] Processing _healthy ...\n",
      "[INFO] Processing _Late_blight ...\n",
      "[INFO] Processing _Leaf_Mold ...\n",
      "[INFO] Processing _mosaic_virus ...\n",
      "[INFO] Processing _Septoria_leaf_spot ...\n",
      "[INFO] Processing _YellowLeaf__Curl_Virus ...\n",
      "[INFO] Processing __healthy ...\n",
      "[INFO] Processing __Target_Spot ...\n",
      "[INFO] Processing ___healthy ...\n",
      "[INFO] Processing ___Late_blight ...\n",
      "[INFO] Image loading completed\n"
     ]
    }
   ],
   "source": [
    "image_list, label_list = [], []\n",
    "try:\n",
    "    print(\"[INFO] Loading images ...\")\n",
    "    directory_root=Path(\"C:\\\\Users\\\\DELL\\\\Documents\\\\plant health prediction\\\\directory_root\\\\plant_folder\")\n",
    "    root_dir = listdir(directory_root)\n",
    "    for directory in root_dir :\n",
    "        # remove .DS_Store from list\n",
    "        if directory == \".DS_Store\" :\n",
    "            root_dir.remove(directory)\n",
    "\n",
    "    for plant_folder in root_dir :\n",
    "        plant_disease_folder_list = listdir(f\"{directory_root}/{plant_folder}\")\n",
    "        \n",
    "        for disease_folder in plant_disease_folder_list :\n",
    "            # remove .DS_Store from list\n",
    "            if disease_folder == \".DS_Store\" :\n",
    "                plant_disease_folder_list.remove(disease_folder)\n",
    "\n",
    "        for plant_disease_folder in plant_disease_folder_list:\n",
    "            print(f\"[INFO] Processing {plant_disease_folder} ...\")\n",
    "            plant_disease_image_list = listdir(f\"{directory_root}/{plant_folder}/{plant_disease_folder}/\")\n",
    "                \n",
    "            for single_plant_disease_image in plant_disease_image_list :\n",
    "                if single_plant_disease_image == \".DS_Store\" :\n",
    "                    plant_disease_image_list.remove(single_plant_disease_image)\n",
    "\n",
    "            for image in plant_disease_image_list[:200]:\n",
    "                image_directory = f\"{directory_root}/{plant_folder}/{plant_disease_folder}/{image}\"\n",
    "                if image_directory.endswith(\".jpg\") == True or image_directory.endswith(\".JPG\") == True:\n",
    "                    image_list.append(convert_image_to_array(image_directory))\n",
    "                    label_list.append(plant_disease_folder)\n",
    "    print(\"[INFO] Image loading completed\")  \n",
    "except Exception as e:\n",
    "    print(f\"Error : {e}\")\n",
    "\n"
   ]
  },
  {
   "cell_type": "code",
   "execution_count": 7,
   "id": "79500b38",
   "metadata": {},
   "outputs": [],
   "source": [
    "image_size = len(image_list)"
   ]
  },
  {
   "cell_type": "code",
   "execution_count": 8,
   "id": "a42effb3",
   "metadata": {},
   "outputs": [],
   "source": [
    "label_binarizer = LabelBinarizer()\n",
    "image_labels = label_binarizer.fit_transform(label_list)\n",
    "pickle.dump(label_binarizer,open('label_transform.pkl', 'wb'))\n",
    "n_classes = len(label_binarizer.classes_)"
   ]
  },
  {
   "cell_type": "code",
   "execution_count": null,
   "id": "b417d215",
   "metadata": {},
   "outputs": [],
   "source": []
  },
  {
   "cell_type": "code",
   "execution_count": 9,
   "id": "ef1461dc",
   "metadata": {},
   "outputs": [],
   "source": [
    "model_new=tf.keras.models.load_model(\"model_pred_1.h5\")"
   ]
  },
  {
   "cell_type": "code",
   "execution_count": 10,
   "id": "768c1da2",
   "metadata": {},
   "outputs": [
    {
     "name": "stdout",
     "output_type": "stream",
     "text": [
      "1/1 [==============================] - 1s 594ms/step\n",
      "probability:0.7498491\n",
      "___healthy\n"
     ]
    }
   ],
   "source": [
    "image_dir=\"C:\\\\Users\\\\DELL\\\\Documents\\\\plant health prediction\\\\directory_root\\\\plant_folder\\\\PlantVillage\\\\healthy\\\\1.jpeg\"\n",
    "im=convert_image_to_array(image_dir)\n",
    "np_image_li = np.array(im, dtype=np.float16) / 225.0\n",
    "npp_image = np.expand_dims(np_image_li, axis=0)\n",
    "  \n",
    "    \n",
    "result=model_new.predict(npp_image)\n",
    "itemindex = np.where(result==np.max(result))\n",
    "print(\"probability:\"+str(np.max(result))+\"\\n\"+label_binarizer.classes_[itemindex[1][0]])\n",
    "    "
   ]
  },
  {
   "cell_type": "code",
   "execution_count": 13,
   "id": "a908a7fc",
   "metadata": {},
   "outputs": [],
   "source": [
    "import numpy as np\n",
    "import cv2 as cv\n",
    "from pathlib import Path\n",
    "\n",
    "def get_image():\n",
    "    Class = 'leafpred'\n",
    "    Path('DATASET/'+Class).mkdir(parents=True, exist_ok=True)  #creates a folder named DATASET\n",
    "    cap = cv.VideoCapture(0)  #return video from the first webcam on your computer.\n",
    "    if not cap.isOpened():\n",
    "        print(\"Cannot open camera\")\n",
    "        exit()\n",
    "    i = 0    \n",
    "    while True:\n",
    "       \n",
    "        ret, frame = cap.read()\n",
    "        # read a video frame by frame\n",
    "            # read() returns tuple in which 1st item is boolean value (ret)\n",
    "            # either True or False and 2nd item is frame of the video.(frame)\n",
    "            # read() returns False when video is ended so \n",
    "            # no frame is readed and error will be generated.\n",
    "\n",
    "        if not ret:\n",
    "            print(\"Can't receive frame (stream end?). Exiting ...\")\n",
    "            break\n",
    "        # frame = cv.flip(frame,1)\n",
    "        i+= 1\n",
    "        if i % 5==0: #for every 5 iterations image is captured.\n",
    "            cv.imwrite('DATASET/'+Class+'/'+str(i)+'.png',frame) #the image in the frame gets stored in dataset with .png\n",
    "      \n",
    "        cv.imshow('frame', frame)  #name or window name of the frame or webcam displayed\n",
    "        \n",
    "       \n",
    "    \n",
    "   \n",
    "        if cv.waitKey(1) == ord('q') or i > 500: #frame waits for 'q' key or i should be more than 500.if satisfies break\n",
    "            break\n",
    "  \n",
    "    cap.release()\n",
    "    cv.destroyAllWindows()# when q is pressed window is closed.\n",
    "\n",
    "\n",
    "    \n",
    "    \n",
    "    \n",
    "    \n",
    "if __name__ == \"__main__\":\n",
    "    get_image()\n",
    "\n",
    "    "
   ]
  },
  {
   "cell_type": "code",
   "execution_count": 14,
   "id": "2af82f51",
   "metadata": {},
   "outputs": [
    {
     "name": "stdout",
     "output_type": "stream",
     "text": [
      "1/1 [==============================] - 1s 581ms/step\n",
      "probability:0.9891378\n",
      "___healthy\n"
     ]
    }
   ],
   "source": [
    "image_dir=\"C:\\\\Users\\\\DELL\\\\Documents\\\\plant health prediction\\\\DATASET\\\\leafpred\\\\300.png\"\n",
    "\n",
    "im=convert_image_to_array(image_dir)\n",
    "np_image_li = np.array(im, dtype=np.float16) / 225.0\n",
    "npp_image = np.expand_dims(np_image_li, axis=0)\n",
    "  \n",
    "    \n",
    "result=model_new.predict(npp_image)\n",
    "itemindex = np.where(result==np.max(result))\n",
    "print(\"probability:\"+str(np.max(result))+\"\\n\"+label_binarizer.classes_[itemindex[1][0]])\n",
    "\n",
    "    "
   ]
  },
  {
   "cell_type": "code",
   "execution_count": null,
   "id": "23f646a7",
   "metadata": {},
   "outputs": [],
   "source": [
    "\n",
    "    \n",
    "\n"
   ]
  },
  {
   "cell_type": "code",
   "execution_count": null,
   "id": "131dd097",
   "metadata": {},
   "outputs": [],
   "source": []
  }
 ],
 "metadata": {
  "kernelspec": {
   "display_name": "Python 3 (ipykernel)",
   "language": "python",
   "name": "python3"
  },
  "language_info": {
   "codemirror_mode": {
    "name": "ipython",
    "version": 3
   },
   "file_extension": ".py",
   "mimetype": "text/x-python",
   "name": "python",
   "nbconvert_exporter": "python",
   "pygments_lexer": "ipython3",
   "version": "3.9.12"
  }
 },
 "nbformat": 4,
 "nbformat_minor": 5
}
