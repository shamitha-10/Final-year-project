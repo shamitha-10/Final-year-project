{
 "cells": [
  {
   "cell_type": "code",
   "execution_count": 1,
   "id": "0684983e",
   "metadata": {},
   "outputs": [],
   "source": [
    "import numpy as np\n",
    "import matplotlib.pyplot as plt\n",
    "import pandas as pd"
   ]
  },
  {
   "cell_type": "code",
   "execution_count": 2,
   "id": "f23d99b8",
   "metadata": {},
   "outputs": [],
   "source": [
    "dataset = pd.read_csv('water_dataset.csv')\n",
    "\n"
   ]
  },
  {
   "cell_type": "code",
   "execution_count": null,
   "id": "744f5c23",
   "metadata": {},
   "outputs": [],
   "source": []
  },
  {
   "cell_type": "code",
   "execution_count": 3,
   "id": "38bc1938",
   "metadata": {},
   "outputs": [],
   "source": [
    "X = dataset.iloc[:, [0,1,2]].values\n",
    "y = dataset.iloc[:, 3].values"
   ]
  },
  {
   "cell_type": "code",
   "execution_count": 4,
   "id": "41fc09ac",
   "metadata": {},
   "outputs": [
    {
     "name": "stdout",
     "output_type": "stream",
     "text": [
      "[[303.1         52.1         25.8       ]\n",
      " [303.1         52.1         25.8       ]\n",
      " [303.1         52.2         25.8       ]\n",
      " ...\n",
      " [241.          29.24598976  16.60820843]\n",
      " [241.          28.62911222  18.74926979]\n",
      " [241.          29.57329479  18.90426935]]\n",
      "['no' 'no' 'no' 'no' 'no' 'no' 'no' 'no' 'no' 'no' 'no' 'no' 'no' 'no'\n",
      " 'no' 'no' 'no' 'no' 'no' 'no' 'no' 'no' 'no' 'no' 'no' 'no' 'no' 'no'\n",
      " 'no' 'no' 'no' 'no' 'no' 'no' 'no' 'no' 'no' 'no' 'no' 'no' 'no' 'no'\n",
      " 'no' 'no' 'no' 'no' 'no' 'no' 'no' 'no' 'no' 'no' 'no' 'no' 'no' 'no'\n",
      " 'no' 'no' 'no' 'no' 'no' 'no' 'no' 'no' 'no' 'no' 'no' 'no' 'no' 'no'\n",
      " 'no' 'no' 'no' 'no' 'no' 'no' 'no' 'no' 'no' 'no' 'no' 'no' 'no' 'no'\n",
      " 'no' 'no' 'no' 'no' 'no' 'no' 'no' 'no' 'no' 'no' 'no' 'no' 'no' 'no'\n",
      " 'no' 'no' 'no' 'no' 'no' 'no' 'no' 'no' 'no' 'no' 'no' 'no' 'no' 'no'\n",
      " 'no' 'no' 'no' 'no' 'no' 'no' 'no' 'no' 'no' 'no' 'no' 'no' 'no' 'no'\n",
      " 'no' 'no' 'no' 'no' 'no' 'no' 'no' 'no' 'no' 'no' 'no' 'no' 'no' 'no'\n",
      " 'no' 'no' 'no' 'no' 'no' 'no' 'no' 'no' 'no' 'no' 'no' 'no' 'no' 'no'\n",
      " 'no' 'no' 'no' 'no' 'no' 'no' 'no' 'no' 'no' 'no' 'no' 'no' 'no' 'no'\n",
      " 'no' 'no' 'no' 'no' 'no' 'no' 'no' 'no' 'no' 'no' 'no' 'no' 'no' 'no'\n",
      " 'no' 'no' 'no' 'no' 'no' 'no' 'no' 'no' 'no' 'no' 'no' 'no' 'no' 'no'\n",
      " 'no' 'no' 'no' 'no' 'no' 'no' 'no' 'no' 'no' 'no' 'no' 'no' 'no' 'no'\n",
      " 'no' 'no' 'no' 'no' 'no' 'no' 'no' 'no' 'no' 'no' 'no' 'no' 'no' 'no'\n",
      " 'no' 'no' 'no' 'no' 'no' 'no' 'no' 'no' 'no' 'no' 'no' 'no' 'no' 'no'\n",
      " 'no' 'no' 'no' 'no' 'no' 'no' 'no' 'no' 'no' 'no' 'no' 'no' 'no' 'no'\n",
      " 'no' 'no' 'no' 'no' 'no' 'no' 'no' 'no' 'no' 'no' 'no' 'no' 'no' 'no'\n",
      " 'no' 'no' 'no' 'no' 'yes' 'yes' 'yes' 'yes' 'yes' 'yes' 'yes' 'yes' 'yes'\n",
      " 'yes' 'yes' 'yes' 'yes' 'yes' 'yes' 'yes' 'no' 'no' 'no' 'no' 'no' 'no'\n",
      " 'no' 'no' 'no' 'no' 'no' 'no' 'no' 'no' 'no' 'no' 'no' 'no' 'no' 'no'\n",
      " 'no' 'no' 'no' 'no' 'no' 'no' 'no' 'no' 'no' 'no' 'no' 'no' 'no' 'no'\n",
      " 'no' 'no' 'no' 'no' 'no' 'no' 'no' 'no' 'no' 'no' 'no' 'no' 'no' 'no'\n",
      " 'no' 'no' 'no' 'no' 'no' 'no' 'no' 'no' 'no' 'no' 'no' 'no' 'no' 'no'\n",
      " 'no' 'no' 'no' 'no' 'no' 'no' 'no' 'no' 'no' 'no' 'no' 'no' 'no' 'no'\n",
      " 'no' 'no' 'no' 'no' 'no' 'no' 'no' 'no' 'no' 'no' 'no' 'no' 'no' 'no'\n",
      " 'no' 'no' 'no' 'no' 'no' 'no' 'no' 'no' 'no' 'no' 'no' 'no' 'no' 'no'\n",
      " 'no' 'no' 'no' 'no' 'no' 'no' 'no' 'no' 'no' 'no' 'no' 'no' 'no' 'no'\n",
      " 'no' 'no' 'no' 'no' 'no' 'no' 'no' 'no' 'no' 'no' 'no' 'no' 'no' 'no'\n",
      " 'no' 'no' 'no' 'no' 'no' 'no' 'no' 'no' 'no' 'no' 'no' 'no' 'no' 'no'\n",
      " 'no' 'no' 'no' 'no' 'no' 'no' 'no' 'no' 'no' 'no' 'no' 'no' 'no' 'no'\n",
      " 'no' 'no' 'no' 'no' 'no' 'no' 'no' 'no' 'no' 'no' 'no' 'no' 'no' 'no'\n",
      " 'no' 'no' 'no' 'no' 'no' 'no' 'no' 'no' 'no' 'no' 'no' 'no' 'no' 'no'\n",
      " 'no' 'no' 'no' 'no' 'no' 'no' 'no' 'no' 'no' 'no' 'no' 'no' 'no' 'no'\n",
      " 'no' 'no' 'yes' 'yes' 'yes' 'yes' 'yes' 'yes' 'yes' 'yes' 'yes' 'yes'\n",
      " 'yes' 'yes' 'yes' 'yes' 'yes' 'yes' 'yes' 'yes' 'yes' 'yes' 'yes' 'yes'\n",
      " 'yes' 'yes' 'yes' 'yes' 'yes' 'yes' 'yes' 'yes' 'yes' 'yes' 'yes' 'yes'\n",
      " 'yes' 'no' 'no' 'no' 'no' 'no' 'no' 'no' 'no' 'no' 'no' 'no' 'no' 'no'\n",
      " 'no' 'no' 'no' 'no' 'no' 'no' 'no' 'no' 'no' 'no' 'no' 'no' 'no' 'no'\n",
      " 'no' 'no' 'no' 'no' 'yes' 'yes' 'yes' 'yes' 'yes' 'yes' 'yes' 'yes' 'yes'\n",
      " 'yes' 'yes' 'yes' 'yes' 'yes' 'yes' 'yes' 'yes' 'yes' 'yes' 'yes' 'yes'\n",
      " 'yes' 'yes' 'yes' 'yes' 'yes' 'yes' 'yes' 'yes' 'yes' 'yes' 'yes' 'yes'\n",
      " 'yes' 'yes' 'yes' 'yes' 'yes' 'yes' 'yes' 'yes' 'yes' 'yes' 'yes' 'yes'\n",
      " 'yes' 'yes' 'yes' 'yes' 'yes' 'yes' 'yes' 'no' 'no' 'no' 'no' 'no' 'no'\n",
      " 'no' 'no' 'no' 'no' 'no' 'no' 'no' 'no' 'no' 'no' 'no' 'no' 'no' 'no'\n",
      " 'no' 'no' 'no' 'no' 'no' 'no' 'no' 'no' 'no' 'no' 'no' 'no' 'no' 'no'\n",
      " 'no' 'no' 'no' 'no' 'no' 'no' 'no' 'no' 'no' 'no' 'no' 'no' 'no' 'no'\n",
      " 'no' 'no' 'no' 'no' 'no' 'no' 'no' 'no' 'no' 'no' 'no' 'no' 'no' 'no'\n",
      " 'no' 'no' 'no' 'no' 'no' 'no' 'no' 'no' 'no' 'no' 'no' 'no' 'no' 'no'\n",
      " 'no' 'no' 'no' 'no' 'no' 'no' 'no' 'no' 'no' 'no' 'no' 'no' 'no' 'no'\n",
      " 'no' 'no' 'no' 'no' 'no' 'no' 'no' 'no' 'no' 'no' 'no' 'no' 'no' 'no'\n",
      " 'no' 'no' 'no' 'no' 'no' 'no' 'no' 'no' 'no' 'no' 'no' 'no' 'no' 'no'\n",
      " 'no' 'no' 'no' 'no' 'no' 'no' 'no' 'no' 'no' 'no' 'no' 'no' 'no' 'no'\n",
      " 'no' 'no' 'no' 'no' 'no' 'no' 'no' 'no' 'no' 'no' 'no' 'no' 'no' 'no'\n",
      " 'no' 'no' 'no' 'no' 'no' 'no' 'no' 'no' 'yes' 'yes' 'yes' 'yes' 'yes'\n",
      " 'yes' 'yes' 'yes' 'yes' 'yes' 'yes' 'yes' 'yes' 'yes' 'yes' 'yes' 'yes'\n",
      " 'yes' 'yes' 'yes' 'yes' 'yes' 'yes' 'yes' 'yes' 'yes' 'yes' 'yes' 'yes'\n",
      " 'yes' 'yes' 'yes' 'yes' 'yes' 'yes' 'yes' 'yes']\n"
     ]
    }
   ],
   "source": [
    "print(X)\n",
    "print(y)"
   ]
  },
  {
   "cell_type": "code",
   "execution_count": 5,
   "id": "28a97e4e",
   "metadata": {},
   "outputs": [],
   "source": [
    "from sklearn.model_selection import train_test_split\n",
    "X_train, X_test, y_train, y_test = train_test_split(X, y, test_size = 0.175, random_state = 0)"
   ]
  },
  {
   "cell_type": "code",
   "execution_count": 6,
   "id": "7e6ef6f2",
   "metadata": {},
   "outputs": [
    {
     "name": "stdout",
     "output_type": "stream",
     "text": [
      "Train data\n",
      "[[784.          28.66024187  21.79992115]\n",
      " [568.          29.8757015   19.56381041]\n",
      " [268.          27.8262623   20.        ]\n",
      " ...\n",
      " [236.          31.3         20.        ]\n",
      " [147.          29.93964907  15.65809214]\n",
      " [297.          31.3         20.        ]]\n",
      "Test data\n",
      "[[638.          19.3479443   24.96881755]\n",
      " [304.          28.63618921  19.33470387]\n",
      " [708.          23.44260668  14.77959596]\n",
      " [295.3         52.1         20.        ]\n",
      " [309.          31.3         20.        ]\n",
      " [602.          36.20970524  20.01730914]\n",
      " [256.          20.03728219  56.35606753]\n",
      " [198.          28.18837136  19.56381041]\n",
      " [659.          27.43329405  24.89487354]\n",
      " [304.          25.44689075  17.13159126]\n",
      " [299.1         52.3         20.        ]\n",
      " [256.          24.71417533  56.73426469]\n",
      " [201.          27.3179125   15.40589717]\n",
      " [296.          31.3         20.        ]\n",
      " [299.1         52.2         20.        ]\n",
      " [288.8         52.1         20.        ]\n",
      " [307.          24.60532218  73.58868502]\n",
      " [286.          22.27526694  58.84015925]\n",
      " [286.          26.29465461  84.56919326]\n",
      " [296.          31.2         20.        ]\n",
      " [309.          31.3         20.        ]\n",
      " [286.          25.0756354   80.52389148]\n",
      " [147.          26.80474415  15.40312102]\n",
      " [198.          25.12528913  18.90426935]\n",
      " [299.          31.3         20.        ]\n",
      " [202.          29.86860065  85.99127934]\n",
      " [286.          23.64124821  80.28597873]\n",
      " [568.          27.91095209  22.33195853]\n",
      " [200.          23.30355338  73.62548442]\n",
      " [286.          21.53574127  71.50905983]\n",
      " [198.          25.5042419   18.74926979]\n",
      " [306.          31.3         20.        ]\n",
      " [283.          52.6         20.        ]\n",
      " [346.          25.36140526  16.60820843]\n",
      " [200.          23.26237612  72.33125523]\n",
      " [297.2         52.2         20.        ]\n",
      " [268.          28.6899851   20.        ]\n",
      " [589.          26.01630259  23.96362799]\n",
      " [286.          25.37548751  57.21025565]\n",
      " [512.          28.43430726  21.35793891]\n",
      " [103.          25.87682261  19.33470387]\n",
      " [241.          28.60901145  15.40312102]\n",
      " [286.          25.19008683  60.2001687 ]\n",
      " [309.          31.3         20.        ]\n",
      " [865.          23.82576704  23.10538637]\n",
      " [602.          30.50420876  24.75485098]\n",
      " [512.          20.89342749  23.77201471]\n",
      " [302.          31.3         20.        ]\n",
      " [286.          24.28209415  80.30025587]\n",
      " [296.          31.3         20.        ]\n",
      " [ 98.          31.01963639  16.98861173]\n",
      " [103.          25.32688786  15.40589717]\n",
      " [286.          18.28362235  66.65952796]\n",
      " [285.          52.5         20.        ]\n",
      " [268.          27.60887393  17.13159126]\n",
      " [435.          29.49096726  22.27512704]\n",
      " [865.          20.10993761  19.17651433]\n",
      " [308.          31.3         20.        ]\n",
      " [308.          31.3         20.        ]\n",
      " [202.          28.36319404  84.8593608 ]\n",
      " [456.          28.6899851   24.32991649]\n",
      " [303.1         52.3         16.5       ]\n",
      " [103.          24.01825377  15.40312102]\n",
      " [659.          27.33684386  21.79992115]\n",
      " [286.          24.44345477  82.45432595]\n",
      " [659.          27.33684386  20.01730914]\n",
      " [589.          29.50304807  20.01730914]\n",
      " [286.          26.22916897  83.83625819]\n",
      " [774.          31.24021696  18.93146941]\n",
      " [268.          27.8262623   18.90426935]\n",
      " [774.          27.33534897  21.59396123]\n",
      " [774.          33.18184225  19.68751084]\n",
      " [303.1         52.1         25.8       ]\n",
      " [774.          36.89163721  24.45202552]\n",
      " [201.          25.50634557  18.74926979]\n",
      " [284.          52.5         20.        ]\n",
      " [296.          31.3         20.        ]\n",
      " [456.          27.89636126  24.67385131]\n",
      " [568.          29.57329479  15.40589717]\n",
      " [309.          31.3         20.        ]\n",
      " [307.          23.50297882  61.32026065]\n",
      " [307.          18.52510753  69.0276233 ]\n",
      " [774.          25.45790488  24.25386207]\n",
      " [296.          31.3         20.        ]\n",
      " [774.          31.80130272  21.14544088]\n",
      " [307.          29.8757015   83.14796296]\n",
      " [306.          31.3         20.        ]\n",
      " [512.          35.09357419  20.18238348]\n",
      " [896.          31.99928579  23.22323766]\n",
      " [302.          28.60901145  86.99495766]\n",
      " [567.          21.32776028  19.87070659]\n",
      " [286.          25.7354293   83.88266234]\n",
      " [295.          31.3         20.        ]\n",
      " [512.          31.07508973  21.43780702]\n",
      " [198.          28.95172351  15.65809214]\n",
      " [712.          28.3340432   24.67385131]\n",
      " [456.          29.65021184  24.75485098]\n",
      " [268.          28.70562673  18.30968112]\n",
      " [589.          34.87248659  24.67385131]\n",
      " [307.          26.54986394  72.89187265]\n",
      " [589.          36.00415838  22.74378977]\n",
      " [708.          16.78791503  16.06240074]\n",
      " [512.          28.76794904  22.27512704]\n",
      " [195.          23.33844615  59.24580604]\n",
      " [299.1         52.3         20.        ]\n",
      " [286.          21.63162756  60.27766379]\n",
      " [638.          26.88630675  22.7182355 ]\n",
      " [307.          28.2753171   82.76020821]\n",
      " [201.          31.70447482  17.13159126]\n",
      " [512.          29.50523036  18.86880997]\n",
      " [ 98.          28.3340432   15.40589717]\n",
      " [295.3         52.1         20.        ]\n",
      " [294.          31.3         20.        ]\n",
      " [190.          27.88352946  15.40589717]\n",
      " [201.          31.46511256  15.65809214]\n",
      " [ 95.          29.75538903  19.56381041]\n",
      " [200.          19.20129357  68.30578978]\n",
      " [297.2         52.1         20.        ]\n",
      " [774.          33.80020039  23.75560241]\n",
      " [638.          19.14729038  21.98879437]\n",
      " [303.          31.3         20.        ]\n",
      " [286.          25.48591986  81.40633547]\n",
      " [303.1         52.3         16.5       ]\n",
      " [307.          31.3         20.        ]\n",
      " [289.2         52.4         20.        ]\n",
      " [568.          19.89286629  18.18325169]\n",
      " [256.          18.41932981  64.23580251]\n",
      " [568.          28.62911222  17.13159126]\n",
      " [589.          36.04353699  24.89487354]\n",
      " [286.          24.6129118   70.4162444 ]\n",
      " [708.          22.8352024   15.36143547]\n",
      " [190.          24.86803974  19.56381041]\n",
      " [303.1         52.2         25.8       ]\n",
      " [268.          28.70562673  20.        ]\n",
      " [307.          22.02720976  65.35549924]\n",
      " [286.          20.61521424  83.77345559]\n",
      " [286.          20.41683147  62.5542482 ]\n",
      " [307.          20.68899915  59.4375337 ]\n",
      " [659.          25.87682261  23.22323766]\n",
      " [638.          36.97794384  24.92607153]]\n"
     ]
    }
   ],
   "source": [
    "print('Train data')\n",
    "print(X_train)\n",
    "print('Test data')\n",
    "print(X_test)"
   ]
  },
  {
   "cell_type": "code",
   "execution_count": 7,
   "id": "efe52859",
   "metadata": {},
   "outputs": [],
   "source": [
    "from sklearn.preprocessing import StandardScaler #Normalization\n",
    "sc = StandardScaler()\n",
    "X_train = sc.fit_transform(X_train)\n",
    "X_test = sc.transform(X_test)"
   ]
  },
  {
   "cell_type": "code",
   "execution_count": 8,
   "id": "34f34412",
   "metadata": {},
   "outputs": [
    {
     "data": {
      "text/plain": [
       "SVC(random_state=0)"
      ]
     },
     "execution_count": 8,
     "metadata": {},
     "output_type": "execute_result"
    }
   ],
   "source": [
    "from sklearn.svm import SVC\n",
    "classifier = SVC(kernel = 'rbf', random_state = 0)\n",
    "classifier.fit(X_train, y_train)"
   ]
  },
  {
   "cell_type": "code",
   "execution_count": 9,
   "id": "25de1fd6",
   "metadata": {},
   "outputs": [],
   "source": [
    "y_pred = classifier.predict(X_test)"
   ]
  },
  {
   "cell_type": "code",
   "execution_count": 10,
   "id": "4d96917e",
   "metadata": {},
   "outputs": [
    {
     "data": {
      "text/plain": [
       "array(['no', 'no', 'no', 'no', 'no', 'no', 'no', 'yes', 'no', 'no', 'no',\n",
       "       'no', 'yes', 'no', 'no', 'no', 'no', 'no', 'no', 'no', 'no', 'no',\n",
       "       'yes', 'yes', 'no', 'no', 'no', 'no', 'no', 'no', 'yes', 'no',\n",
       "       'no', 'no', 'no', 'no', 'no', 'no', 'no', 'no', 'yes', 'yes', 'no',\n",
       "       'no', 'no', 'no', 'no', 'no', 'no', 'no', 'yes', 'yes', 'no', 'no',\n",
       "       'no', 'no', 'no', 'no', 'no', 'no', 'no', 'no', 'yes', 'no', 'no',\n",
       "       'no', 'no', 'no', 'no', 'no', 'no', 'no', 'no', 'no', 'yes', 'no',\n",
       "       'no', 'no', 'no', 'no', 'no', 'no', 'no', 'no', 'no', 'no', 'no',\n",
       "       'no', 'no', 'no', 'no', 'no', 'no', 'no', 'yes', 'no', 'no', 'no',\n",
       "       'no', 'no', 'no', 'no', 'no', 'no', 'no', 'no', 'no', 'no', 'yes',\n",
       "       'no', 'yes', 'no', 'no', 'yes', 'yes', 'yes', 'no', 'no', 'no',\n",
       "       'no', 'no', 'no', 'no', 'no', 'no', 'no', 'no', 'no', 'no', 'no',\n",
       "       'no', 'yes', 'no', 'no', 'no', 'no', 'no', 'no', 'no', 'no'],\n",
       "      dtype=object)"
      ]
     },
     "execution_count": 10,
     "metadata": {},
     "output_type": "execute_result"
    }
   ],
   "source": [
    "y_pred"
   ]
  },
  {
   "cell_type": "code",
   "execution_count": 11,
   "id": "4cceb9cd",
   "metadata": {},
   "outputs": [
    {
     "data": {
      "text/plain": [
       "array(['no', 'no', 'no', 'no', 'no', 'no', 'no', 'yes', 'no', 'no', 'no',\n",
       "       'no', 'yes', 'no', 'no', 'no', 'no', 'no', 'no', 'no', 'no', 'no',\n",
       "       'yes', 'yes', 'no', 'no', 'no', 'no', 'no', 'no', 'yes', 'no',\n",
       "       'no', 'no', 'no', 'no', 'yes', 'no', 'no', 'no', 'yes', 'yes',\n",
       "       'no', 'no', 'no', 'no', 'no', 'no', 'no', 'no', 'yes', 'yes', 'no',\n",
       "       'no', 'no', 'no', 'no', 'no', 'no', 'no', 'no', 'no', 'yes', 'no',\n",
       "       'no', 'no', 'no', 'no', 'no', 'no', 'no', 'no', 'no', 'no', 'yes',\n",
       "       'no', 'no', 'no', 'no', 'no', 'no', 'no', 'no', 'no', 'no', 'no',\n",
       "       'no', 'no', 'no', 'no', 'no', 'no', 'no', 'no', 'yes', 'no', 'no',\n",
       "       'no', 'no', 'no', 'no', 'no', 'no', 'yes', 'no', 'no', 'no', 'no',\n",
       "       'yes', 'no', 'yes', 'no', 'no', 'yes', 'yes', 'yes', 'no', 'no',\n",
       "       'no', 'no', 'no', 'no', 'no', 'no', 'no', 'no', 'no', 'no', 'no',\n",
       "       'no', 'no', 'yes', 'no', 'yes', 'no', 'no', 'no', 'no', 'no', 'no'],\n",
       "      dtype=object)"
      ]
     },
     "execution_count": 11,
     "metadata": {},
     "output_type": "execute_result"
    }
   ],
   "source": [
    "y_test"
   ]
  },
  {
   "cell_type": "code",
   "execution_count": 12,
   "id": "4366d31f",
   "metadata": {},
   "outputs": [
    {
     "name": "stdout",
     "output_type": "stream",
     "text": [
      "[[119   0]\n",
      " [  3  18]]\n"
     ]
    },
    {
     "data": {
      "text/plain": [
       "0.9785714285714285"
      ]
     },
     "execution_count": 12,
     "metadata": {},
     "output_type": "execute_result"
    }
   ],
   "source": [
    "from sklearn.metrics import confusion_matrix, accuracy_score\n",
    "cm = confusion_matrix(y_test, y_pred)\n",
    "print(cm)\n",
    "accuracy_score(y_test,y_pred)"
   ]
  },
  {
   "cell_type": "code",
   "execution_count": 13,
   "id": "78c8ab8e",
   "metadata": {},
   "outputs": [
    {
     "data": {
      "image/png": "[encoded data removed]",
      "text/plain": [
       "<Figure size 432x288 with 2 Axes>"
      ]
     },
     "metadata": {
      "needs_background": "light"
     },
     "output_type": "display_data"
    }
   ],
   "source": [
    "import matplotlib.pyplot as plt\n",
    "import numpy\n",
    "from sklearn import metrics\n",
    "\n",
    "confusion_matrix = metrics.confusion_matrix(y_test, y_pred)\n",
    "\n",
    "cm_display = metrics.ConfusionMatrixDisplay(confusion_matrix = confusion_matrix, display_labels = [False, True])\n",
    "\n",
    "cm_display.plot()\n",
    "plt.show()"
   ]
  },
  {
   "cell_type": "code",
   "execution_count": 14,
   "id": "9a09a170",
   "metadata": {},
   "outputs": [],
   "source": [
    "import pickle\n",
    "# load model in hand_gesture_recog\n",
    "with open('model.pkl', 'wb') as f:\n",
    "    pickle.dump(classifier,f) "
   ]
  },
  {
   "cell_type": "code",
   "execution_count": null,
   "id": "cb939ebf",
   "metadata": {},
   "outputs": [],
   "source": []
  }
 ],
 "metadata": {
  "kernelspec": {
   "display_name": "Python 3 (ipykernel)",
   "language": "python",
   "name": "python3"
  },
  "language_info": {
   "codemirror_mode": {
    "name": "ipython",
    "version": 3
   },
   "file_extension": ".py",
   "mimetype": "text/x-python",
   "name": "python",
   "nbconvert_exporter": "python",
   "pygments_lexer": "ipython3",
   "version": "3.9.12"
  }
 },
 "nbformat": 4,
 "nbformat_minor": 5
}
