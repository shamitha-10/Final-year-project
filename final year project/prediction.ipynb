{
 "cells": [
  {
   "cell_type": "code",
   "execution_count": 1,
   "id": "7c3431ff",
   "metadata": {},
   "outputs": [],
   "source": [
    "import numpy as np\n",
    "import matplotlib.pyplot as plt\n",
    "import pandas as pd"
   ]
  },
  {
   "cell_type": "code",
   "execution_count": 2,
   "id": "f6606fee",
   "metadata": {},
   "outputs": [],
   "source": [
    "import pickle\n",
    "# load model in hand_gesture_recog\n",
    "with open('model.pkl', 'rb') as f:\n",
    "    svm = pickle.load(f) "
   ]
  },
  {
   "cell_type": "code",
   "execution_count": 3,
   "id": "011d221b",
   "metadata": {},
   "outputs": [],
   "source": [
    "dataset = pd.read_csv('dataset_pred.csv')"
   ]
  },
  {
   "cell_type": "code",
   "execution_count": 4,
   "id": "0990d1f5",
   "metadata": {},
   "outputs": [],
   "source": [
    "X = dataset.iloc[:, [0,1,2]].values"
   ]
  },
  {
   "cell_type": "code",
   "execution_count": 5,
   "id": "4d444dff",
   "metadata": {},
   "outputs": [
    {
     "name": "stdout",
     "output_type": "stream",
     "text": [
      "[[394.   30.1  72.5]\n",
      " [394.   30.1  72.5]\n",
      " [394.   30.1  72.6]\n",
      " [394.   30.1  72.6]\n",
      " [394.   30.1  72.5]\n",
      " [394.   30.1  72.6]\n",
      " [393.   30.2  72.4]\n",
      " [394.   30.1  72.4]\n",
      " [393.   30.1  72.4]\n",
      " [393.   30.1  72.4]\n",
      " [393.   30.1  72.4]\n",
      " [393.   30.1  72.4]\n",
      " [393.   30.2  72.5]]\n"
     ]
    }
   ],
   "source": [
    "print(X)"
   ]
  },
  {
   "cell_type": "code",
   "execution_count": 6,
   "id": "0c4efd4e",
   "metadata": {},
   "outputs": [],
   "source": [
    "y_pred = svm.predict(X)"
   ]
  },
  {
   "cell_type": "code",
   "execution_count": 7,
   "id": "23d8520a",
   "metadata": {},
   "outputs": [
    {
     "name": "stdout",
     "output_type": "stream",
     "text": [
      "no\n"
     ]
    }
   ],
   "source": [
    "print(np.max(y_pred))\n"
   ]
  },
  {
   "cell_type": "code",
   "execution_count": null,
   "id": "1611c798",
   "metadata": {},
   "outputs": [],
   "source": []
  },
  {
   "cell_type": "code",
   "execution_count": null,
   "id": "81a2bae2",
   "metadata": {},
   "outputs": [],
   "source": []
  }
 ],
 "metadata": {
  "kernelspec": {
   "display_name": "Python 3 (ipykernel)",
   "language": "python",
   "name": "python3"
  },
  "language_info": {
   "codemirror_mode": {
    "name": "ipython",
    "version": 3
   },
   "file_extension": ".py",
   "mimetype": "text/x-python",
   "name": "python",
   "nbconvert_exporter": "python",
   "pygments_lexer": "ipython3",
   "version": "3.9.12"
  }
 },
 "nbformat": 4,
 "nbformat_minor": 5
}
